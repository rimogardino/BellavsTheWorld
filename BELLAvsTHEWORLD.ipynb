{
 "cells": [
  {
   "cell_type": "markdown",
   "metadata": {},
   "source": [
    "# A model that can recognise my roomate's dog and some other objects"
   ]
  },
  {
   "cell_type": "code",
   "execution_count": 1,
   "metadata": {},
   "outputs": [
    {
     "name": "stdout",
     "output_type": "stream",
     "text": [
      "2.0.0-dev20190629\n"
     ]
    }
   ],
   "source": [
    "import tensorflow as tf\n",
    "import numpy as np\n",
    "import matplotlib.pyplot as plt\n",
    "import matplotlib.image as mpimg\n",
    "import os,shutil\n",
    "from PIL import Image\n",
    "from tensorflow.keras import layers as Layers\n",
    "\n",
    "print(tf.__version__)"
   ]
  },
  {
   "cell_type": "code",
   "execution_count": 52,
   "metadata": {},
   "outputs": [],
   "source": [
    "## one of (96, 96), (128, 128), (160, 160),(192, 192), or (224, 224)\n",
    "img_size = 96"
   ]
  },
  {
   "cell_type": "markdown",
   "metadata": {},
   "source": [
    "## Prepare data"
   ]
  },
  {
   "cell_type": "code",
   "execution_count": 3,
   "metadata": {},
   "outputs": [],
   "source": [
    "\"\"\"\n",
    "Copy a portion of the Caltech 101 petimages to use as data for this model\n",
    "Also include some of the images of Bela\n",
    "\n",
    "This creates folders and fills them with the data,\n",
    "needs to run everytime in the start as I'm lazy to fix it, \n",
    "so you need to delete the folders if you start from a new kernel\n",
    "to prevent duplicating examples\n",
    "\"\"\"\n",
    "\n",
    "main_dir = \"/home/rimogardino/Programs/ML/Data/cats vs dogs/PetImages/Caltech 101 for bella\"\n",
    "target_dir = \"/home/rimogardino/Programs/ML/Data/cats vs dogs/PetImages/Bella\"\n",
    "\n",
    "train_dir = os.path.join(target_dir, \"train\")\n",
    "validate_dir = os.path.join(target_dir, \"validate\")\n",
    "test_dir = os.path.join(target_dir, \"test\")\n",
    "\n",
    "data_split = {\"train\": [0,40], \"validate\": [40,50], \"test\": [50,60]}\n",
    "\n",
    "\n",
    "\n",
    "for sub_dir in os.listdir(main_dir):\n",
    "    for data_key, data_range in data_split.items():\n",
    "        stat_dir = os.path.join(target_dir, data_key)\n",
    "        curr_stat_dir = os.path.join(stat_dir, sub_dir)\n",
    "        try:\n",
    "            os.mkdir(stat_dir)\n",
    "        except:\n",
    "            pass\n",
    "        try:\n",
    "            os.mkdir(curr_stat_dir)\n",
    "        except:\n",
    "            pass\n",
    "        file_list = os.listdir(os.path.join(main_dir, sub_dir))\n",
    "        np.random.shuffle(file_list)\n",
    "        for fname in file_list[data_range[0]:data_range[1]]:\n",
    "            src = os.path.join(main_dir, sub_dir + \"/\" + fname)\n",
    "            target = os.path.join(curr_stat_dir, fname)\n",
    "            shutil.copy(src, target)   "
   ]
  },
  {
   "cell_type": "markdown",
   "metadata": {},
   "source": [
    "## Create Data generators."
   ]
  },
  {
   "cell_type": "code",
   "execution_count": 53,
   "metadata": {},
   "outputs": [
    {
     "name": "stdout",
     "output_type": "stream",
     "text": [
      "Found 277 images belonging to 7 classes.\n",
      "Found 70 images belonging to 7 classes.\n",
      "Found 59 images belonging to 7 classes.\n"
     ]
    }
   ],
   "source": [
    "## the batch size should ideally be bigger, at least 10 I think, but my GPU can't handle it with the pruning\n",
    "## It only has 2gb of memory..\n",
    "batch_size = 5\n",
    "test_batch_size = 5\n",
    "######\n",
    "train_data_gen = tf.keras.preprocessing.image.ImageDataGenerator(rescale=1.0/255,\n",
    "                                                                rotation_range=40,\n",
    "                                                                width_shift_range=0.2,\n",
    "                                                                height_shift_range=0.2,\n",
    "                                                                shear_range=0.2,\n",
    "                                                                zoom_range=0.2,\n",
    "                                                                horizontal_flip=True,\n",
    "                                                                fill_mode='nearest')\n",
    "\n",
    "val_data_gen = tf.keras.preprocessing.image.ImageDataGenerator(rescale=1.0/255)\n",
    "\n",
    "test_data_gen = tf.keras.preprocessing.image.ImageDataGenerator(rescale=1.0/255)\n",
    "\n",
    "\n",
    "############\n",
    "train_gen = train_data_gen.flow_from_directory(train_dir,\n",
    "                                              target_size=(img_size, img_size),\n",
    "                                              class_mode=\"categorical\",\n",
    "                                              batch_size=batch_size,)\n",
    "\n",
    "val_gen = val_data_gen.flow_from_directory(validate_dir,\n",
    "                                              target_size=(img_size, img_size),\n",
    "                                              class_mode=\"categorical\",\n",
    "                                              batch_size=batch_size,)\n",
    "\n",
    "test_gen = val_data_gen.flow_from_directory(test_dir,\n",
    "                                              target_size=(img_size, img_size),\n",
    "                                              class_mode=\"categorical\",\n",
    "                                              batch_size=test_batch_size,)"
   ]
  },
  {
   "cell_type": "markdown",
   "metadata": {},
   "source": [
    "## Feature extraction"
   ]
  },
  {
   "cell_type": "code",
   "execution_count": 54,
   "metadata": {},
   "outputs": [],
   "source": [
    "## initialize the ImagenetV2 pre-trained model and make it untrainable\n",
    "conv_base = tf.keras.applications.MobileNetV2(weights='imagenet',\n",
    "                                              include_top=False,\n",
    "                                              input_shape=(img_size, img_size, 3))\n",
    "\n",
    "conv_base.trainable = False"
   ]
  },
  {
   "cell_type": "code",
   "execution_count": 55,
   "metadata": {},
   "outputs": [
    {
     "name": "stdout",
     "output_type": "stream",
     "text": [
      "End step: 2240\n"
     ]
    }
   ],
   "source": [
    "## Init the pruning parameters\n",
    "from tensorflow_model_optimization.sparsity import keras as sparsity\n",
    "\n",
    "# Only 40 as I get OOM's if it's more\n",
    "# Without pruning I get better results around 50 epochs and bigger batch sizes\n",
    "epochs = 40\n",
    "# num_train_samples should be constant with the amount of data that I have now\n",
    "num_train_samples = 277\n",
    "end_step = np.ceil(1.0 * num_train_samples / batch_size).astype(np.int32) * epochs\n",
    "print('End step: ' + str(end_step))\n",
    "\n",
    "pruning_params = {\n",
    "      'pruning_schedule': sparsity.PolynomialDecay(initial_sparsity=0.50,\n",
    "                                                   final_sparsity=0.90,\n",
    "                                                   begin_step=1500,\n",
    "                                                   end_step=end_step,\n",
    "                                                   frequency=100)\n",
    "}\n"
   ]
  },
  {
   "cell_type": "code",
   "execution_count": 56,
   "metadata": {},
   "outputs": [],
   "source": [
    "## Define model\n",
    "pruned = 1\n",
    "\n",
    "model = tf.keras.Sequential()\n",
    "\n",
    "model.add(conv_base)\n",
    "if pruned:\n",
    "    ## the nodes in the pruned version are less as I'm getting OOM otherwise\n",
    "    model.add(Layers.Flatten())\n",
    "    model.add(sparsity.prune_low_magnitude(\n",
    "                Layers.Dense(512, activation=\"relu\"),\n",
    "                **pruning_params))\n",
    "    model.add(Layers.Dropout(0.2))\n",
    "\n",
    "    model.add(sparsity.prune_low_magnitude(\n",
    "                Layers.Dense(128, activation=\"relu\"),\n",
    "                **pruning_params))\n",
    "    model.add(sparsity.prune_low_magnitude(\n",
    "                Layers.Dense(7, activation=\"softmax\"),\n",
    "                **pruning_params))\n",
    "else:\n",
    "    model.add(Layers.Flatten())\n",
    "    model.add(Layers.Dense(1024, activation=\"relu\"))\n",
    "    model.add(Layers.Dropout(0.2))\n",
    "\n",
    "    model.add(Layers.Dense(256, activation=\"relu\"))\n",
    "    model.add(Layers.Dense(7, activation=\"softmax\"))"
   ]
  },
  {
   "cell_type": "code",
   "execution_count": 57,
   "metadata": {},
   "outputs": [
    {
     "name": "stdout",
     "output_type": "stream",
     "text": [
      "Model: \"sequential_4\"\n",
      "_________________________________________________________________\n",
      "Layer (type)                 Output Shape              Param #   \n",
      "=================================================================\n",
      "mobilenetv2_1.00_96 (Model)  (None, 3, 3, 1280)        2257984   \n",
      "_________________________________________________________________\n",
      "flatten_4 (Flatten)          (None, 11520)             0         \n",
      "_________________________________________________________________\n",
      "prune_low_magnitude_dense_12 (None, 512)               11796994  \n",
      "_________________________________________________________________\n",
      "dropout_4 (Dropout)          (None, 512)               0         \n",
      "_________________________________________________________________\n",
      "prune_low_magnitude_dense_13 (None, 128)               131202    \n",
      "_________________________________________________________________\n",
      "prune_low_magnitude_dense_14 (None, 7)                 1801      \n",
      "=================================================================\n",
      "Total params: 14,187,981\n",
      "Trainable params: 5,965,319\n",
      "Non-trainable params: 8,222,662\n",
      "_________________________________________________________________\n",
      "Trainable weights after freezing:  6\n"
     ]
    }
   ],
   "source": [
    "model.summary()\n",
    "\n",
    "print(\"Trainable weights after freezing: \", len(model.trainable_weights))"
   ]
  },
  {
   "cell_type": "code",
   "execution_count": 58,
   "metadata": {},
   "outputs": [],
   "source": [
    "model.compile(loss='categorical_crossentropy',\n",
    "             optimizer=tf.optimizers.RMSprop(lr=1e-4),\n",
    "             metrics=[\"acc\"])"
   ]
  },
  {
   "cell_type": "code",
   "execution_count": 59,
   "metadata": {},
   "outputs": [
    {
     "name": "stdout",
     "output_type": "stream",
     "text": [
      "Epoch 1/40\n",
      "30/30 [==============================] - 8s 280ms/step - loss: 2.0106 - acc: 0.2600\n",
      "Epoch 2/40\n",
      "30/30 [==============================] - 7s 247ms/step - loss: 1.3427 - acc: 0.5102\n",
      "Epoch 3/40\n",
      "30/30 [==============================] - 7s 230ms/step - loss: 1.0586 - acc: 0.6400\n",
      "Epoch 4/40\n",
      "30/30 [==============================] - 7s 225ms/step - loss: 0.9783 - acc: 0.6735\n",
      "Epoch 5/40\n",
      "30/30 [==============================] - 7s 218ms/step - loss: 0.9710 - acc: 0.6735\n",
      "Epoch 6/40\n",
      "30/30 [==============================] - 7s 237ms/step - loss: 0.7804 - acc: 0.7267\n",
      "Epoch 7/40\n",
      "30/30 [==============================] - 7s 222ms/step - loss: 0.8236 - acc: 0.7600\n",
      "Epoch 8/40\n",
      "30/30 [==============================] - 7s 219ms/step - loss: 0.8565 - acc: 0.7211\n",
      "Epoch 9/40\n",
      "30/30 [==============================] - 5s 177ms/step - loss: 0.8351 - acc: 0.7143\n",
      "Epoch 10/40\n",
      "30/30 [==============================] - 8s 266ms/step - loss: 0.6518 - acc: 0.7755\n",
      "Epoch 11/40\n",
      "30/30 [==============================] - 7s 238ms/step - loss: 0.5610 - acc: 0.8133\n",
      "Epoch 12/40\n",
      "30/30 [==============================] - 6s 186ms/step - loss: 0.7473 - acc: 0.8027\n",
      "Epoch 13/40\n",
      "30/30 [==============================] - 7s 228ms/step - loss: 0.7120 - acc: 0.7533\n",
      "Epoch 14/40\n",
      "30/30 [==============================] - 7s 246ms/step - loss: 0.6573 - acc: 0.8067\n",
      "Epoch 15/40\n",
      "30/30 [==============================] - 6s 206ms/step - loss: 0.5932 - acc: 0.8163\n",
      "Epoch 16/40\n",
      "30/30 [==============================] - 6s 204ms/step - loss: 0.4848 - acc: 0.8067\n",
      "Epoch 17/40\n",
      "30/30 [==============================] - 7s 235ms/step - loss: 0.6491 - acc: 0.8027\n",
      "Epoch 18/40\n",
      "30/30 [==============================] - 7s 217ms/step - loss: 0.5996 - acc: 0.8200\n",
      "Epoch 19/40\n",
      "30/30 [==============================] - 7s 246ms/step - loss: 0.7652 - acc: 0.7619\n",
      "Epoch 20/40\n",
      "30/30 [==============================] - 7s 226ms/step - loss: 0.5540 - acc: 0.8367\n",
      "Epoch 21/40\n",
      "30/30 [==============================] - 5s 167ms/step - loss: 0.4850 - acc: 0.8267\n",
      "Epoch 22/40\n",
      "30/30 [==============================] - 7s 234ms/step - loss: 0.6391 - acc: 0.8299\n",
      "Epoch 23/40\n",
      "30/30 [==============================] - 9s 286ms/step - loss: 0.6034 - acc: 0.8467\n",
      "Epoch 24/40\n",
      "30/30 [==============================] - 6s 206ms/step - loss: 0.5791 - acc: 0.8163\n",
      "Epoch 25/40\n",
      "30/30 [==============================] - 6s 207ms/step - loss: 0.3842 - acc: 0.8733\n",
      "Epoch 26/40\n",
      "30/30 [==============================] - 6s 214ms/step - loss: 0.6825 - acc: 0.8095\n",
      "Epoch 27/40\n",
      "30/30 [==============================] - 7s 232ms/step - loss: 0.4863 - acc: 0.8367\n",
      "Epoch 28/40\n",
      "30/30 [==============================] - 7s 223ms/step - loss: 0.6394 - acc: 0.8400\n",
      "Epoch 29/40\n",
      "30/30 [==============================] - 7s 228ms/step - loss: 0.4253 - acc: 0.8776\n",
      "Epoch 30/40\n",
      "30/30 [==============================] - 7s 221ms/step - loss: 0.4348 - acc: 0.8600\n",
      "Epoch 31/40\n",
      "30/30 [==============================] - 6s 207ms/step - loss: 0.4643 - acc: 0.8467\n",
      "Epoch 32/40\n",
      "30/30 [==============================] - 6s 215ms/step - loss: 0.6699 - acc: 0.8435\n",
      "Epoch 33/40\n",
      "30/30 [==============================] - 6s 214ms/step - loss: 0.5512 - acc: 0.8367\n",
      "Epoch 34/40\n",
      "30/30 [==============================] - 8s 253ms/step - loss: 0.3753 - acc: 0.9000\n",
      "Epoch 35/40\n",
      "30/30 [==============================] - 7s 241ms/step - loss: 0.3413 - acc: 0.8707\n",
      "Epoch 36/40\n",
      "30/30 [==============================] - 7s 245ms/step - loss: 0.3788 - acc: 0.8667\n",
      "Epoch 37/40\n",
      "30/30 [==============================] - 7s 249ms/step - loss: 0.6421 - acc: 0.8435\n",
      "Epoch 38/40\n",
      "30/30 [==============================] - 5s 182ms/step - loss: 0.4795 - acc: 0.8467\n",
      "Epoch 39/40\n",
      "30/30 [==============================] - 6s 205ms/step - loss: 0.6771 - acc: 0.8503\n",
      "Epoch 40/40\n",
      "30/30 [==============================] - 7s 235ms/step - loss: 0.3886 - acc: 0.9116\n"
     ]
    }
   ],
   "source": [
    "if pruned:\n",
    "    # Add a pruning step callback to connect the pruning step to the optimizer's step.\n",
    "    callbacks = [\n",
    "        sparsity.UpdatePruningStep(),\n",
    "    ]\n",
    "\n",
    "    history = model.fit_generator(train_gen,\n",
    "                                    steps_per_epoch=277//batch_size,\n",
    "                                    epochs=epochs,\n",
    "                                    verbose=1,\n",
    "                                    callbacks=callbacks,\n",
    "    # I've disabled validation for the pruning as OOMs..\n",
    "    #                                 validation_data=val_gen,\n",
    "    #                                 validation_steps=10,\n",
    "                                 )\n",
    "else:\n",
    "    ##this is for the unpruned model version\n",
    "    history = model.fit_generator(train_gen,\n",
    "                                  steps_per_epoch=277//batch_size,\n",
    "                                  epochs=50,\n",
    "                                  validation_data=val_gen,\n",
    "                                  validation_steps=10,)"
   ]
  },
  {
   "cell_type": "code",
   "execution_count": 31,
   "metadata": {},
   "outputs": [
    {
     "data": {
      "image/png": "[encoded data removed]",
      "text/plain": [
       "<Figure size 432x288 with 1 Axes>"
      ]
     },
     "metadata": {
      "needs_background": "light"
     },
     "output_type": "display_data"
    },
    {
     "data": {
      "image/png": "[encoded data removed]",
      "text/plain": [
       "<Figure size 432x288 with 1 Axes>"
      ]
     },
     "metadata": {
      "needs_background": "light"
     },
     "output_type": "display_data"
    }
   ],
   "source": [
    "acc = history.history['acc']\n",
    "val_acc = history.history['val_acc']\n",
    "\n",
    "loss = history.history['loss']\n",
    "val_loss = history.history['val_loss']\n",
    "\n",
    "epochs = range(1, len(acc) + 1)\n",
    "\n",
    "plt.figure()\n",
    "plt.plot(epochs, acc, \"bo\", label=\"Training accuracy\")\n",
    "plt.plot(epochs, val_acc, \"b\", label=\"Validation accuracy\")\n",
    "plt.title(\"Accuracy\")\n",
    "plt.legend()\n",
    "\n",
    "plt.figure()\n",
    "plt.plot(epochs, loss, \"bo\", label=\"Trainning loss\")\n",
    "plt.plot(epochs, val_loss, \"b\", Label=\"Validation loss\")\n",
    "plt.title(\"Loss\")\n",
    "plt.legend()\n",
    "\n",
    "plt.show()"
   ]
  },
  {
   "cell_type": "code",
   "execution_count": 14,
   "metadata": {},
   "outputs": [
    {
     "data": {
      "text/plain": [
       "{'Faces': 0, 'bella': 1, 'cat': 2, 'cup': 3, 'dog': 4, 'lamp': 5, 'pizza': 6}"
      ]
     },
     "execution_count": 14,
     "metadata": {},
     "output_type": "execute_result"
    }
   ],
   "source": [
    "train_gen.class_indices"
   ]
  },
  {
   "cell_type": "markdown",
   "metadata": {},
   "source": [
    "## Fine tunning\n",
    "### It's not particularly usefull for this model, but I'm leving it for now"
   ]
  },
  {
   "cell_type": "code",
   "execution_count": 22,
   "metadata": {},
   "outputs": [
    {
     "name": "stdout",
     "output_type": "stream",
     "text": [
      "Model: \"mobilenetv2_1.00_128\"\n",
      "__________________________________________________________________________________________________\n",
      "Layer (type)                    Output Shape         Param #     Connected to                     \n",
      "==================================================================================================\n",
      "input_2 (InputLayer)            [(None, 128, 128, 3) 0                                            \n",
      "__________________________________________________________________________________________________\n",
      "Conv1_pad (ZeroPadding2D)       (None, 129, 129, 3)  0           input_2[0][0]                    \n",
      "__________________________________________________________________________________________________\n",
      "Conv1 (Conv2D)                  (None, 64, 64, 32)   864         Conv1_pad[0][0]                  \n",
      "__________________________________________________________________________________________________\n",
      "bn_Conv1 (BatchNormalization)   (None, 64, 64, 32)   128         Conv1[0][0]                      \n",
      "__________________________________________________________________________________________________\n",
      "Conv1_relu (ReLU)               (None, 64, 64, 32)   0           bn_Conv1[0][0]                   \n",
      "__________________________________________________________________________________________________\n",
      "expanded_conv_depthwise (Depthw (None, 64, 64, 32)   288         Conv1_relu[0][0]                 \n",
      "__________________________________________________________________________________________________\n",
      "expanded_conv_depthwise_BN (Bat (None, 64, 64, 32)   128         expanded_conv_depthwise[0][0]    \n",
      "__________________________________________________________________________________________________\n",
      "expanded_conv_depthwise_relu (R (None, 64, 64, 32)   0           expanded_conv_depthwise_BN[0][0] \n",
      "__________________________________________________________________________________________________\n",
      "expanded_conv_project (Conv2D)  (None, 64, 64, 16)   512         expanded_conv_depthwise_relu[0][0\n",
      "__________________________________________________________________________________________________\n",
      "expanded_conv_project_BN (Batch (None, 64, 64, 16)   64          expanded_conv_project[0][0]      \n",
      "__________________________________________________________________________________________________\n",
      "block_1_expand (Conv2D)         (None, 64, 64, 96)   1536        expanded_conv_project_BN[0][0]   \n",
      "__________________________________________________________________________________________________\n",
      "block_1_expand_BN (BatchNormali (None, 64, 64, 96)   384         block_1_expand[0][0]             \n",
      "__________________________________________________________________________________________________\n",
      "block_1_expand_relu (ReLU)      (None, 64, 64, 96)   0           block_1_expand_BN[0][0]          \n",
      "__________________________________________________________________________________________________\n",
      "block_1_pad (ZeroPadding2D)     (None, 65, 65, 96)   0           block_1_expand_relu[0][0]        \n",
      "__________________________________________________________________________________________________\n",
      "block_1_depthwise (DepthwiseCon (None, 32, 32, 96)   864         block_1_pad[0][0]                \n",
      "__________________________________________________________________________________________________\n",
      "block_1_depthwise_BN (BatchNorm (None, 32, 32, 96)   384         block_1_depthwise[0][0]          \n",
      "__________________________________________________________________________________________________\n",
      "block_1_depthwise_relu (ReLU)   (None, 32, 32, 96)   0           block_1_depthwise_BN[0][0]       \n",
      "__________________________________________________________________________________________________\n",
      "block_1_project (Conv2D)        (None, 32, 32, 24)   2304        block_1_depthwise_relu[0][0]     \n",
      "__________________________________________________________________________________________________\n",
      "block_1_project_BN (BatchNormal (None, 32, 32, 24)   96          block_1_project[0][0]            \n",
      "__________________________________________________________________________________________________\n",
      "block_2_expand (Conv2D)         (None, 32, 32, 144)  3456        block_1_project_BN[0][0]         \n",
      "__________________________________________________________________________________________________\n",
      "block_2_expand_BN (BatchNormali (None, 32, 32, 144)  576         block_2_expand[0][0]             \n",
      "__________________________________________________________________________________________________\n",
      "block_2_expand_relu (ReLU)      (None, 32, 32, 144)  0           block_2_expand_BN[0][0]          \n",
      "__________________________________________________________________________________________________\n",
      "block_2_depthwise (DepthwiseCon (None, 32, 32, 144)  1296        block_2_expand_relu[0][0]        \n",
      "__________________________________________________________________________________________________\n",
      "block_2_depthwise_BN (BatchNorm (None, 32, 32, 144)  576         block_2_depthwise[0][0]          \n",
      "__________________________________________________________________________________________________\n",
      "block_2_depthwise_relu (ReLU)   (None, 32, 32, 144)  0           block_2_depthwise_BN[0][0]       \n",
      "__________________________________________________________________________________________________\n",
      "block_2_project (Conv2D)        (None, 32, 32, 24)   3456        block_2_depthwise_relu[0][0]     \n",
      "__________________________________________________________________________________________________\n",
      "block_2_project_BN (BatchNormal (None, 32, 32, 24)   96          block_2_project[0][0]            \n",
      "__________________________________________________________________________________________________\n",
      "block_2_add (Add)               (None, 32, 32, 24)   0           block_1_project_BN[0][0]         \n",
      "                                                                 block_2_project_BN[0][0]         \n",
      "__________________________________________________________________________________________________\n",
      "block_3_expand (Conv2D)         (None, 32, 32, 144)  3456        block_2_add[0][0]                \n",
      "__________________________________________________________________________________________________\n",
      "block_3_expand_BN (BatchNormali (None, 32, 32, 144)  576         block_3_expand[0][0]             \n",
      "__________________________________________________________________________________________________\n",
      "block_3_expand_relu (ReLU)      (None, 32, 32, 144)  0           block_3_expand_BN[0][0]          \n",
      "__________________________________________________________________________________________________\n",
      "block_3_pad (ZeroPadding2D)     (None, 33, 33, 144)  0           block_3_expand_relu[0][0]        \n",
      "__________________________________________________________________________________________________\n",
      "block_3_depthwise (DepthwiseCon (None, 16, 16, 144)  1296        block_3_pad[0][0]                \n",
      "__________________________________________________________________________________________________\n",
      "block_3_depthwise_BN (BatchNorm (None, 16, 16, 144)  576         block_3_depthwise[0][0]          \n",
      "__________________________________________________________________________________________________\n",
      "block_3_depthwise_relu (ReLU)   (None, 16, 16, 144)  0           block_3_depthwise_BN[0][0]       \n",
      "__________________________________________________________________________________________________\n",
      "block_3_project (Conv2D)        (None, 16, 16, 32)   4608        block_3_depthwise_relu[0][0]     \n",
      "__________________________________________________________________________________________________\n",
      "block_3_project_BN (BatchNormal (None, 16, 16, 32)   128         block_3_project[0][0]            \n",
      "__________________________________________________________________________________________________\n",
      "block_4_expand (Conv2D)         (None, 16, 16, 192)  6144        block_3_project_BN[0][0]         \n",
      "__________________________________________________________________________________________________\n",
      "block_4_expand_BN (BatchNormali (None, 16, 16, 192)  768         block_4_expand[0][0]             \n",
      "__________________________________________________________________________________________________\n",
      "block_4_expand_relu (ReLU)      (None, 16, 16, 192)  0           block_4_expand_BN[0][0]          \n",
      "__________________________________________________________________________________________________\n",
      "block_4_depthwise (DepthwiseCon (None, 16, 16, 192)  1728        block_4_expand_relu[0][0]        \n",
      "__________________________________________________________________________________________________\n",
      "block_4_depthwise_BN (BatchNorm (None, 16, 16, 192)  768         block_4_depthwise[0][0]          \n",
      "__________________________________________________________________________________________________\n",
      "block_4_depthwise_relu (ReLU)   (None, 16, 16, 192)  0           block_4_depthwise_BN[0][0]       \n",
      "__________________________________________________________________________________________________\n",
      "block_4_project (Conv2D)        (None, 16, 16, 32)   6144        block_4_depthwise_relu[0][0]     \n",
      "__________________________________________________________________________________________________\n",
      "block_4_project_BN (BatchNormal (None, 16, 16, 32)   128         block_4_project[0][0]            \n",
      "__________________________________________________________________________________________________\n",
      "block_4_add (Add)               (None, 16, 16, 32)   0           block_3_project_BN[0][0]         \n",
      "                                                                 block_4_project_BN[0][0]         \n",
      "__________________________________________________________________________________________________\n",
      "block_5_expand (Conv2D)         (None, 16, 16, 192)  6144        block_4_add[0][0]                \n",
      "__________________________________________________________________________________________________\n",
      "block_5_expand_BN (BatchNormali (None, 16, 16, 192)  768         block_5_expand[0][0]             \n",
      "__________________________________________________________________________________________________\n",
      "block_5_expand_relu (ReLU)      (None, 16, 16, 192)  0           block_5_expand_BN[0][0]          \n",
      "__________________________________________________________________________________________________\n",
      "block_5_depthwise (DepthwiseCon (None, 16, 16, 192)  1728        block_5_expand_relu[0][0]        \n",
      "__________________________________________________________________________________________________\n",
      "block_5_depthwise_BN (BatchNorm (None, 16, 16, 192)  768         block_5_depthwise[0][0]          \n",
      "__________________________________________________________________________________________________\n",
      "block_5_depthwise_relu (ReLU)   (None, 16, 16, 192)  0           block_5_depthwise_BN[0][0]       \n",
      "__________________________________________________________________________________________________\n",
      "block_5_project (Conv2D)        (None, 16, 16, 32)   6144        block_5_depthwise_relu[0][0]     \n",
      "__________________________________________________________________________________________________\n",
      "block_5_project_BN (BatchNormal (None, 16, 16, 32)   128         block_5_project[0][0]            \n",
      "__________________________________________________________________________________________________\n",
      "block_5_add (Add)               (None, 16, 16, 32)   0           block_4_add[0][0]                \n",
      "                                                                 block_5_project_BN[0][0]         \n",
      "__________________________________________________________________________________________________\n",
      "block_6_expand (Conv2D)         (None, 16, 16, 192)  6144        block_5_add[0][0]                \n",
      "__________________________________________________________________________________________________\n",
      "block_6_expand_BN (BatchNormali (None, 16, 16, 192)  768         block_6_expand[0][0]             \n",
      "__________________________________________________________________________________________________\n",
      "block_6_expand_relu (ReLU)      (None, 16, 16, 192)  0           block_6_expand_BN[0][0]          \n",
      "__________________________________________________________________________________________________\n",
      "block_6_pad (ZeroPadding2D)     (None, 17, 17, 192)  0           block_6_expand_relu[0][0]        \n",
      "__________________________________________________________________________________________________\n",
      "block_6_depthwise (DepthwiseCon (None, 8, 8, 192)    1728        block_6_pad[0][0]                \n",
      "__________________________________________________________________________________________________\n",
      "block_6_depthwise_BN (BatchNorm (None, 8, 8, 192)    768         block_6_depthwise[0][0]          \n",
      "__________________________________________________________________________________________________\n",
      "block_6_depthwise_relu (ReLU)   (None, 8, 8, 192)    0           block_6_depthwise_BN[0][0]       \n",
      "__________________________________________________________________________________________________\n",
      "block_6_project (Conv2D)        (None, 8, 8, 64)     12288       block_6_depthwise_relu[0][0]     \n",
      "__________________________________________________________________________________________________\n",
      "block_6_project_BN (BatchNormal (None, 8, 8, 64)     256         block_6_project[0][0]            \n",
      "__________________________________________________________________________________________________\n",
      "block_7_expand (Conv2D)         (None, 8, 8, 384)    24576       block_6_project_BN[0][0]         \n",
      "__________________________________________________________________________________________________\n",
      "block_7_expand_BN (BatchNormali (None, 8, 8, 384)    1536        block_7_expand[0][0]             \n",
      "__________________________________________________________________________________________________\n",
      "block_7_expand_relu (ReLU)      (None, 8, 8, 384)    0           block_7_expand_BN[0][0]          \n",
      "__________________________________________________________________________________________________\n",
      "block_7_depthwise (DepthwiseCon (None, 8, 8, 384)    3456        block_7_expand_relu[0][0]        \n",
      "__________________________________________________________________________________________________\n",
      "block_7_depthwise_BN (BatchNorm (None, 8, 8, 384)    1536        block_7_depthwise[0][0]          \n",
      "__________________________________________________________________________________________________\n",
      "block_7_depthwise_relu (ReLU)   (None, 8, 8, 384)    0           block_7_depthwise_BN[0][0]       \n",
      "__________________________________________________________________________________________________\n",
      "block_7_project (Conv2D)        (None, 8, 8, 64)     24576       block_7_depthwise_relu[0][0]     \n",
      "__________________________________________________________________________________________________\n",
      "block_7_project_BN (BatchNormal (None, 8, 8, 64)     256         block_7_project[0][0]            \n",
      "__________________________________________________________________________________________________\n",
      "block_7_add (Add)               (None, 8, 8, 64)     0           block_6_project_BN[0][0]         \n",
      "                                                                 block_7_project_BN[0][0]         \n",
      "__________________________________________________________________________________________________\n",
      "block_8_expand (Conv2D)         (None, 8, 8, 384)    24576       block_7_add[0][0]                \n",
      "__________________________________________________________________________________________________\n",
      "block_8_expand_BN (BatchNormali (None, 8, 8, 384)    1536        block_8_expand[0][0]             \n",
      "__________________________________________________________________________________________________\n",
      "block_8_expand_relu (ReLU)      (None, 8, 8, 384)    0           block_8_expand_BN[0][0]          \n",
      "__________________________________________________________________________________________________\n",
      "block_8_depthwise (DepthwiseCon (None, 8, 8, 384)    3456        block_8_expand_relu[0][0]        \n",
      "__________________________________________________________________________________________________\n",
      "block_8_depthwise_BN (BatchNorm (None, 8, 8, 384)    1536        block_8_depthwise[0][0]          \n",
      "__________________________________________________________________________________________________\n",
      "block_8_depthwise_relu (ReLU)   (None, 8, 8, 384)    0           block_8_depthwise_BN[0][0]       \n",
      "__________________________________________________________________________________________________\n",
      "block_8_project (Conv2D)        (None, 8, 8, 64)     24576       block_8_depthwise_relu[0][0]     \n",
      "__________________________________________________________________________________________________\n",
      "block_8_project_BN (BatchNormal (None, 8, 8, 64)     256         block_8_project[0][0]            \n",
      "__________________________________________________________________________________________________\n",
      "block_8_add (Add)               (None, 8, 8, 64)     0           block_7_add[0][0]                \n",
      "                                                                 block_8_project_BN[0][0]         \n",
      "__________________________________________________________________________________________________\n",
      "block_9_expand (Conv2D)         (None, 8, 8, 384)    24576       block_8_add[0][0]                \n",
      "__________________________________________________________________________________________________\n",
      "block_9_expand_BN (BatchNormali (None, 8, 8, 384)    1536        block_9_expand[0][0]             \n",
      "__________________________________________________________________________________________________\n",
      "block_9_expand_relu (ReLU)      (None, 8, 8, 384)    0           block_9_expand_BN[0][0]          \n",
      "__________________________________________________________________________________________________\n",
      "block_9_depthwise (DepthwiseCon (None, 8, 8, 384)    3456        block_9_expand_relu[0][0]        \n",
      "__________________________________________________________________________________________________\n",
      "block_9_depthwise_BN (BatchNorm (None, 8, 8, 384)    1536        block_9_depthwise[0][0]          \n",
      "__________________________________________________________________________________________________\n",
      "block_9_depthwise_relu (ReLU)   (None, 8, 8, 384)    0           block_9_depthwise_BN[0][0]       \n",
      "__________________________________________________________________________________________________\n",
      "block_9_project (Conv2D)        (None, 8, 8, 64)     24576       block_9_depthwise_relu[0][0]     \n",
      "__________________________________________________________________________________________________\n",
      "block_9_project_BN (BatchNormal (None, 8, 8, 64)     256         block_9_project[0][0]            \n",
      "__________________________________________________________________________________________________\n",
      "block_9_add (Add)               (None, 8, 8, 64)     0           block_8_add[0][0]                \n",
      "                                                                 block_9_project_BN[0][0]         \n",
      "__________________________________________________________________________________________________\n",
      "block_10_expand (Conv2D)        (None, 8, 8, 384)    24576       block_9_add[0][0]                \n",
      "__________________________________________________________________________________________________\n",
      "block_10_expand_BN (BatchNormal (None, 8, 8, 384)    1536        block_10_expand[0][0]            \n",
      "__________________________________________________________________________________________________\n",
      "block_10_expand_relu (ReLU)     (None, 8, 8, 384)    0           block_10_expand_BN[0][0]         \n",
      "__________________________________________________________________________________________________\n",
      "block_10_depthwise (DepthwiseCo (None, 8, 8, 384)    3456        block_10_expand_relu[0][0]       \n",
      "__________________________________________________________________________________________________\n",
      "block_10_depthwise_BN (BatchNor (None, 8, 8, 384)    1536        block_10_depthwise[0][0]         \n",
      "__________________________________________________________________________________________________\n",
      "block_10_depthwise_relu (ReLU)  (None, 8, 8, 384)    0           block_10_depthwise_BN[0][0]      \n",
      "__________________________________________________________________________________________________\n",
      "block_10_project (Conv2D)       (None, 8, 8, 96)     36864       block_10_depthwise_relu[0][0]    \n",
      "__________________________________________________________________________________________________\n",
      "block_10_project_BN (BatchNorma (None, 8, 8, 96)     384         block_10_project[0][0]           \n",
      "__________________________________________________________________________________________________\n",
      "block_11_expand (Conv2D)        (None, 8, 8, 576)    55296       block_10_project_BN[0][0]        \n",
      "__________________________________________________________________________________________________\n",
      "block_11_expand_BN (BatchNormal (None, 8, 8, 576)    2304        block_11_expand[0][0]            \n",
      "__________________________________________________________________________________________________\n",
      "block_11_expand_relu (ReLU)     (None, 8, 8, 576)    0           block_11_expand_BN[0][0]         \n",
      "__________________________________________________________________________________________________\n",
      "block_11_depthwise (DepthwiseCo (None, 8, 8, 576)    5184        block_11_expand_relu[0][0]       \n",
      "__________________________________________________________________________________________________\n",
      "block_11_depthwise_BN (BatchNor (None, 8, 8, 576)    2304        block_11_depthwise[0][0]         \n",
      "__________________________________________________________________________________________________\n",
      "block_11_depthwise_relu (ReLU)  (None, 8, 8, 576)    0           block_11_depthwise_BN[0][0]      \n",
      "__________________________________________________________________________________________________\n",
      "block_11_project (Conv2D)       (None, 8, 8, 96)     55296       block_11_depthwise_relu[0][0]    \n",
      "__________________________________________________________________________________________________\n",
      "block_11_project_BN (BatchNorma (None, 8, 8, 96)     384         block_11_project[0][0]           \n",
      "__________________________________________________________________________________________________\n",
      "block_11_add (Add)              (None, 8, 8, 96)     0           block_10_project_BN[0][0]        \n",
      "                                                                 block_11_project_BN[0][0]        \n",
      "__________________________________________________________________________________________________\n",
      "block_12_expand (Conv2D)        (None, 8, 8, 576)    55296       block_11_add[0][0]               \n",
      "__________________________________________________________________________________________________\n",
      "block_12_expand_BN (BatchNormal (None, 8, 8, 576)    2304        block_12_expand[0][0]            \n",
      "__________________________________________________________________________________________________\n",
      "block_12_expand_relu (ReLU)     (None, 8, 8, 576)    0           block_12_expand_BN[0][0]         \n",
      "__________________________________________________________________________________________________\n",
      "block_12_depthwise (DepthwiseCo (None, 8, 8, 576)    5184        block_12_expand_relu[0][0]       \n",
      "__________________________________________________________________________________________________\n",
      "block_12_depthwise_BN (BatchNor (None, 8, 8, 576)    2304        block_12_depthwise[0][0]         \n",
      "__________________________________________________________________________________________________\n",
      "block_12_depthwise_relu (ReLU)  (None, 8, 8, 576)    0           block_12_depthwise_BN[0][0]      \n",
      "__________________________________________________________________________________________________\n",
      "block_12_project (Conv2D)       (None, 8, 8, 96)     55296       block_12_depthwise_relu[0][0]    \n",
      "__________________________________________________________________________________________________\n",
      "block_12_project_BN (BatchNorma (None, 8, 8, 96)     384         block_12_project[0][0]           \n",
      "__________________________________________________________________________________________________\n",
      "block_12_add (Add)              (None, 8, 8, 96)     0           block_11_add[0][0]               \n",
      "                                                                 block_12_project_BN[0][0]        \n",
      "__________________________________________________________________________________________________\n",
      "block_13_expand (Conv2D)        (None, 8, 8, 576)    55296       block_12_add[0][0]               \n",
      "__________________________________________________________________________________________________\n",
      "block_13_expand_BN (BatchNormal (None, 8, 8, 576)    2304        block_13_expand[0][0]            \n",
      "__________________________________________________________________________________________________\n",
      "block_13_expand_relu (ReLU)     (None, 8, 8, 576)    0           block_13_expand_BN[0][0]         \n",
      "__________________________________________________________________________________________________\n",
      "block_13_pad (ZeroPadding2D)    (None, 9, 9, 576)    0           block_13_expand_relu[0][0]       \n",
      "__________________________________________________________________________________________________\n",
      "block_13_depthwise (DepthwiseCo (None, 4, 4, 576)    5184        block_13_pad[0][0]               \n",
      "__________________________________________________________________________________________________\n",
      "block_13_depthwise_BN (BatchNor (None, 4, 4, 576)    2304        block_13_depthwise[0][0]         \n",
      "__________________________________________________________________________________________________\n",
      "block_13_depthwise_relu (ReLU)  (None, 4, 4, 576)    0           block_13_depthwise_BN[0][0]      \n",
      "__________________________________________________________________________________________________\n",
      "block_13_project (Conv2D)       (None, 4, 4, 160)    92160       block_13_depthwise_relu[0][0]    \n",
      "__________________________________________________________________________________________________\n",
      "block_13_project_BN (BatchNorma (None, 4, 4, 160)    640         block_13_project[0][0]           \n",
      "__________________________________________________________________________________________________\n",
      "block_14_expand (Conv2D)        (None, 4, 4, 960)    153600      block_13_project_BN[0][0]        \n",
      "__________________________________________________________________________________________________\n",
      "block_14_expand_BN (BatchNormal (None, 4, 4, 960)    3840        block_14_expand[0][0]            \n",
      "__________________________________________________________________________________________________\n",
      "block_14_expand_relu (ReLU)     (None, 4, 4, 960)    0           block_14_expand_BN[0][0]         \n",
      "__________________________________________________________________________________________________\n",
      "block_14_depthwise (DepthwiseCo (None, 4, 4, 960)    8640        block_14_expand_relu[0][0]       \n",
      "__________________________________________________________________________________________________\n",
      "block_14_depthwise_BN (BatchNor (None, 4, 4, 960)    3840        block_14_depthwise[0][0]         \n",
      "__________________________________________________________________________________________________\n",
      "block_14_depthwise_relu (ReLU)  (None, 4, 4, 960)    0           block_14_depthwise_BN[0][0]      \n",
      "__________________________________________________________________________________________________\n",
      "block_14_project (Conv2D)       (None, 4, 4, 160)    153600      block_14_depthwise_relu[0][0]    \n",
      "__________________________________________________________________________________________________\n",
      "block_14_project_BN (BatchNorma (None, 4, 4, 160)    640         block_14_project[0][0]           \n",
      "__________________________________________________________________________________________________\n",
      "block_14_add (Add)              (None, 4, 4, 160)    0           block_13_project_BN[0][0]        \n",
      "                                                                 block_14_project_BN[0][0]        \n",
      "__________________________________________________________________________________________________\n",
      "block_15_expand (Conv2D)        (None, 4, 4, 960)    153600      block_14_add[0][0]               \n",
      "__________________________________________________________________________________________________\n",
      "block_15_expand_BN (BatchNormal (None, 4, 4, 960)    3840        block_15_expand[0][0]            \n",
      "__________________________________________________________________________________________________\n",
      "block_15_expand_relu (ReLU)     (None, 4, 4, 960)    0           block_15_expand_BN[0][0]         \n",
      "__________________________________________________________________________________________________\n",
      "block_15_depthwise (DepthwiseCo (None, 4, 4, 960)    8640        block_15_expand_relu[0][0]       \n",
      "__________________________________________________________________________________________________\n",
      "block_15_depthwise_BN (BatchNor (None, 4, 4, 960)    3840        block_15_depthwise[0][0]         \n",
      "__________________________________________________________________________________________________\n",
      "block_15_depthwise_relu (ReLU)  (None, 4, 4, 960)    0           block_15_depthwise_BN[0][0]      \n",
      "__________________________________________________________________________________________________\n",
      "block_15_project (Conv2D)       (None, 4, 4, 160)    153600      block_15_depthwise_relu[0][0]    \n",
      "__________________________________________________________________________________________________\n",
      "block_15_project_BN (BatchNorma (None, 4, 4, 160)    640         block_15_project[0][0]           \n",
      "__________________________________________________________________________________________________\n",
      "block_15_add (Add)              (None, 4, 4, 160)    0           block_14_add[0][0]               \n",
      "                                                                 block_15_project_BN[0][0]        \n",
      "__________________________________________________________________________________________________\n",
      "block_16_expand (Conv2D)        (None, 4, 4, 960)    153600      block_15_add[0][0]               \n",
      "__________________________________________________________________________________________________\n",
      "block_16_expand_BN (BatchNormal (None, 4, 4, 960)    3840        block_16_expand[0][0]            \n",
      "__________________________________________________________________________________________________\n",
      "block_16_expand_relu (ReLU)     (None, 4, 4, 960)    0           block_16_expand_BN[0][0]         \n",
      "__________________________________________________________________________________________________\n",
      "block_16_depthwise (DepthwiseCo (None, 4, 4, 960)    8640        block_16_expand_relu[0][0]       \n",
      "__________________________________________________________________________________________________\n",
      "block_16_depthwise_BN (BatchNor (None, 4, 4, 960)    3840        block_16_depthwise[0][0]         \n",
      "__________________________________________________________________________________________________\n",
      "block_16_depthwise_relu (ReLU)  (None, 4, 4, 960)    0           block_16_depthwise_BN[0][0]      \n",
      "__________________________________________________________________________________________________\n",
      "block_16_project (Conv2D)       (None, 4, 4, 320)    307200      block_16_depthwise_relu[0][0]    \n",
      "__________________________________________________________________________________________________\n",
      "block_16_project_BN (BatchNorma (None, 4, 4, 320)    1280        block_16_project[0][0]           \n",
      "__________________________________________________________________________________________________\n",
      "Conv_1 (Conv2D)                 (None, 4, 4, 1280)   409600      block_16_project_BN[0][0]        \n",
      "__________________________________________________________________________________________________\n",
      "Conv_1_bn (BatchNormalization)  (None, 4, 4, 1280)   5120        Conv_1[0][0]                     \n",
      "__________________________________________________________________________________________________\n",
      "out_relu (ReLU)                 (None, 4, 4, 1280)   0           Conv_1_bn[0][0]                  \n",
      "==================================================================================================\n",
      "Total params: 2,257,984\n",
      "Trainable params: 0\n",
      "Non-trainable params: 2,257,984\n",
      "__________________________________________________________________________________________________\n"
     ]
    }
   ],
   "source": [
    "## Get the name of the layers you should unlock from here\n",
    "conv_base.summary()"
   ]
  },
  {
   "cell_type": "code",
   "execution_count": 33,
   "metadata": {},
   "outputs": [
    {
     "name": "stdout",
     "output_type": "stream",
     "text": [
      "Trainable weights before unlocking the top convlayer:  9\n",
      "Conv_1\n",
      "Trainable weights after unlocking the top convlayer:  9\n"
     ]
    }
   ],
   "source": [
    "## Unlock the top layers of the MobileNetv2 to allow for finetuning.\n",
    "print(\"Trainable weights before unlocking the top convlayer: \", len(model.trainable_weights))\n",
    "\n",
    "conv_base.trainable = True\n",
    "set_trainable = False\n",
    "for layer in conv_base.layers:\n",
    "    #print(layer.name)\n",
    "    ##block5_conv1 for the previous one\n",
    "    if layer.name == 'Conv_1':\n",
    "        print(layer.name)\n",
    "        set_trainable = True\n",
    "    if set_trainable:\n",
    "        layer.trainable = True\n",
    "    else:\n",
    "        layer.trainable = False\n",
    "\n",
    "print(\"Trainable weights after unlocking the top convlayer: \", len(model.trainable_weights))"
   ]
  },
  {
   "cell_type": "code",
   "execution_count": 34,
   "metadata": {},
   "outputs": [],
   "source": [
    "# compile again as to update the model with the unlocked layers \n",
    "model.compile(loss='categorical_crossentropy',\n",
    "             optimizer=tf.optimizers.RMSprop(lr=2e-6),\n",
    "             metrics=[\"acc\"])"
   ]
  },
  {
   "cell_type": "code",
   "execution_count": 37,
   "metadata": {},
   "outputs": [
    {
     "name": "stdout",
     "output_type": "stream",
     "text": [
      "Epoch 1/15\n",
      "20/20 [==============================] - 7s 347ms/step - loss: 0.7123 - acc: 0.8400 - val_loss: 0.3936 - val_acc: 0.8800\n",
      "Epoch 2/15\n",
      "20/20 [==============================] - 4s 190ms/step - loss: 0.5576 - acc: 0.8660 - val_loss: 0.4025 - val_acc: 0.8800\n",
      "Epoch 3/15\n",
      "20/20 [==============================] - 6s 292ms/step - loss: 0.4562 - acc: 0.9000 - val_loss: 0.4061 - val_acc: 0.8800\n",
      "Epoch 4/15\n",
      "20/20 [==============================] - 7s 338ms/step - loss: 0.5765 - acc: 0.8600 - val_loss: 0.4116 - val_acc: 0.8800\n",
      "Epoch 5/15\n",
      "20/20 [==============================] - 4s 211ms/step - loss: 0.4582 - acc: 0.8660 - val_loss: 0.4100 - val_acc: 0.8800\n",
      "Epoch 6/15\n",
      "20/20 [==============================] - 4s 209ms/step - loss: 0.3883 - acc: 0.9000 - val_loss: 0.4124 - val_acc: 0.8800\n",
      "Epoch 7/15\n",
      "20/20 [==============================] - 6s 290ms/step - loss: 0.4321 - acc: 0.8969 - val_loss: 0.4292 - val_acc: 0.8800\n",
      "Epoch 8/15\n",
      "20/20 [==============================] - 5s 265ms/step - loss: 0.3963 - acc: 0.9000 - val_loss: 0.4333 - val_acc: 0.8800\n",
      "Epoch 9/15\n",
      "20/20 [==============================] - 5s 248ms/step - loss: 0.3314 - acc: 0.8900 - val_loss: 0.4239 - val_acc: 0.8800\n",
      "Epoch 10/15\n",
      "20/20 [==============================] - 7s 331ms/step - loss: 0.2772 - acc: 0.9200 - val_loss: 0.4194 - val_acc: 0.8800\n",
      "Epoch 11/15\n",
      "20/20 [==============================] - 4s 205ms/step - loss: 0.3097 - acc: 0.9381 - val_loss: 0.4375 - val_acc: 0.8800\n",
      "Epoch 12/15\n",
      "20/20 [==============================] - 6s 279ms/step - loss: 0.5444 - acc: 0.8660 - val_loss: 0.4605 - val_acc: 0.8800\n",
      "Epoch 13/15\n",
      "20/20 [==============================] - 6s 292ms/step - loss: 0.4296 - acc: 0.9100 - val_loss: 0.4485 - val_acc: 0.8800\n",
      "Epoch 14/15\n",
      "20/20 [==============================] - 4s 221ms/step - loss: 0.3566 - acc: 0.8800 - val_loss: 0.4504 - val_acc: 0.8800\n",
      "Epoch 15/15\n",
      "20/20 [==============================] - 4s 206ms/step - loss: 0.2194 - acc: 0.8900 - val_loss: 0.4453 - val_acc: 0.8800\n"
     ]
    }
   ],
   "source": [
    "history = model.fit_generator(train_gen,\n",
    "                              steps_per_epoch=277//batch_size,\n",
    "                              epochs=5,\n",
    "#                               callbacks=callbacks,\n",
    "                              validation_data=val_gen,\n",
    "                              validation_steps=5,\n",
    "                             )"
   ]
  },
  {
   "cell_type": "code",
   "execution_count": 38,
   "metadata": {},
   "outputs": [
    {
     "data": {
      "image/png": "[encoded data removed]",
      "text/plain": [
       "<Figure size 432x288 with 1 Axes>"
      ]
     },
     "metadata": {
      "needs_background": "light"
     },
     "output_type": "display_data"
    },
    {
     "data": {
      "image/png": "[encoded data removed]",
      "text/plain": [
       "<Figure size 432x288 with 1 Axes>"
      ]
     },
     "metadata": {
      "needs_background": "light"
     },
     "output_type": "display_data"
    }
   ],
   "source": [
    "## Results after fine-tuning\n",
    "acc = history.history['acc']\n",
    "val_acc = history.history['val_acc']\n",
    "\n",
    "loss = history.history['loss']\n",
    "val_loss = history.history['val_loss']\n",
    "\n",
    "epochs = range(1, len(acc) + 1)\n",
    "\n",
    "plt.figure()\n",
    "plt.plot(epochs, acc, \"bo\", label=\"Training accuracy\")\n",
    "plt.plot(epochs, val_acc, \"b\", label=\"Validation accuracy\")\n",
    "plt.title(\"Accuracy\")\n",
    "plt.legend()\n",
    "\n",
    "plt.figure()\n",
    "plt.plot(epochs, loss, \"bo\", label=\"Trainning loss\")\n",
    "plt.plot(epochs, val_loss, \"b\", Label=\"Validation loss\")\n",
    "plt.title(\"Loss\")\n",
    "plt.legend()\n",
    "\n",
    "plt.show()"
   ]
  },
  {
   "cell_type": "code",
   "execution_count": 39,
   "metadata": {},
   "outputs": [
    {
     "name": "stdout",
     "output_type": "stream",
     "text": [
      "test acc: 0.94\n"
     ]
    }
   ],
   "source": [
    "test_loss, test_acc = model.evaluate_generator(test_gen, steps=10)\n",
    "print('test acc:', test_acc)"
   ]
  },
  {
   "cell_type": "markdown",
   "metadata": {},
   "source": [
    "## Convert and export model to .tflite"
   ]
  },
  {
   "cell_type": "code",
   "execution_count": 60,
   "metadata": {},
   "outputs": [
    {
     "name": "stdout",
     "output_type": "stream",
     "text": [
      "Model: \"sequential_4\"\n",
      "_________________________________________________________________\n",
      "Layer (type)                 Output Shape              Param #   \n",
      "=================================================================\n",
      "mobilenetv2_1.00_96 (Model)  (None, 3, 3, 1280)        2257984   \n",
      "_________________________________________________________________\n",
      "flatten_4 (Flatten)          (None, 11520)             0         \n",
      "_________________________________________________________________\n",
      "dense_12 (Dense)             (None, 512)               5898752   \n",
      "_________________________________________________________________\n",
      "dropout_4 (Dropout)          (None, 512)               0         \n",
      "_________________________________________________________________\n",
      "dense_13 (Dense)             (None, 128)               65664     \n",
      "_________________________________________________________________\n",
      "dense_14 (Dense)             (None, 7)                 903       \n",
      "=================================================================\n",
      "Total params: 8,223,303\n",
      "Trainable params: 5,965,319\n",
      "Non-trainable params: 2,257,984\n",
      "_________________________________________________________________\n"
     ]
    },
    {
     "data": {
      "text/plain": [
       "32718116"
      ]
     },
     "execution_count": 60,
     "metadata": {},
     "output_type": "execute_result"
    }
   ],
   "source": [
    "quantize = 0\n",
    "# this is defined at model creation, but could be handy to override here\n",
    "#pruned = 1\n",
    "if pruned:\n",
    "    stripped_pruned_model = sparsity.strip_pruning(model)\n",
    "    #stripped_pruned_model.summary()\n",
    "    final_model = stripped_pruned_model\n",
    "else:\n",
    "    final_model = model\n",
    "\n",
    "converter = tf.lite.TFLiteConverter.from_keras_model(final_model)\n",
    "\n",
    "if quantize:\n",
    "    #converter.target_spec.supported_ops = [tf.lite.OpsSet.TFLITE_BUILTINS, tf.lite.OpsSet.SELECT_TF_OPS]\n",
    "    converter.optimizations = [tf.lite.Optimize.OPTIMIZE_FOR_SIZE]\n",
    "    file_name = \"bella_vs_theworld_mobnetv2_quantized\"\n",
    "elif pruned:\n",
    "    file_name = \"bella_vs_theworld_mobnetv2_pruned\"\n",
    "else:\n",
    "    file_name = \"bella_vs_theworld_mobnetv2\"\n",
    "    \n",
    "    \n",
    "tflite_model = converter.convert()\n",
    "\n",
    "open(\"Models_tflite/\" + file_name + \".tflite\", \"wb\").write(tflite_model)"
   ]
  }
 ],
 "metadata": {
  "kernelspec": {
   "display_name": "Python 3",
   "language": "python",
   "name": "python3"
  },
  "language_info": {
   "codemirror_mode": {
    "name": "ipython",
    "version": 3
   },
   "file_extension": ".py",
   "mimetype": "text/x-python",
   "name": "python",
   "nbconvert_exporter": "python",
   "pygments_lexer": "ipython3",
   "version": "3.7.3"
  }
 },
 "nbformat": 4,
 "nbformat_minor": 2
}
